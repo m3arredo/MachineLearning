{
 "cells": [
  {
   "cell_type": "markdown",
   "id": "4e55e349-ed8e-4f86-8a70-005e657664e0",
   "metadata": {},
   "source": [
    "# Question 1"
   ]
  },
  {
   "cell_type": "markdown",
   "id": "426eefee-dcd8-4b7a-92cb-c29bd77c925d",
   "metadata": {},
   "source": [
    "### Cross validation for nearest neighbor classification"
   ]
  },
  {
   "cell_type": "code",
   "execution_count": 1,
   "id": "9dcc3180-c655-4af7-9a34-8c982ce22b95",
   "metadata": {},
   "outputs": [],
   "source": [
    "import numpy as np\n",
    "import pandas as pd\n",
    "import matplotlib.pyplot as plt\n",
    "from sklearn.model_selection import LeaveOneOut\n",
    "from sklearn.neighbors import KNeighborsClassifier\n",
    "from sklearn.metrics import confusion_matrix\n",
    "from sklearn.model_selection import KFold, cross_val_score\n",
    "from matplotlib.patches import Circle"
   ]
  },
  {
   "cell_type": "code",
   "execution_count": 2,
   "id": "40b3ec7c-eee5-43e9-8f29-a42bc3df9b33",
   "metadata": {},
   "outputs": [],
   "source": [
    "## Load the data\n",
    "data = np.loadtxt('wine.data', delimiter=',')"
   ]
  },
  {
   "cell_type": "code",
   "execution_count": 3,
   "id": "5a830da8-e7af-4b00-8637-93befb14fe06",
   "metadata": {},
   "outputs": [
    {
     "data": {
      "text/plain": [
       "(178, 14)"
      ]
     },
     "execution_count": 3,
     "metadata": {},
     "output_type": "execute_result"
    }
   ],
   "source": [
    "data.shape"
   ]
  },
  {
   "cell_type": "code",
   "execution_count": 4,
   "id": "abaa8d0d-c0fa-4826-aba5-c90dfa1e09ab",
   "metadata": {},
   "outputs": [],
   "source": [
    "# split into the labels and the data\n",
    "x= np.delete(data,0, axis=1)\n",
    "y = data[:,0]"
   ]
  },
  {
   "cell_type": "code",
   "execution_count": 5,
   "id": "e670740c-b7a2-4296-b7e1-3698f198b836",
   "metadata": {},
   "outputs": [],
   "source": [
    "#1-NN Classifier\n",
    "kNN = KNeighborsClassifier(n_neighbors=1)\n",
    "#LOOOCV Classifier\n",
    "loo = LeaveOneOut()\n",
    "\n",
    "#initialize\n",
    "scores=[]\n",
    "conf_matrix= np.zeros((3,3))\n",
    "#train and test the classifiers\n",
    "for train_index, test_index in loo.split(x):\n",
    "    x_train, x_test = x[train_index], x[test_index] #generate indices with loo\n",
    "    y_train, y_test = y[train_index], y[test_index]\n",
    "    kNN.fit(x_train, y_train)\n",
    "    score = kNN.score(x_test, y_test)\n",
    "    scores.append(score)\n",
    "    #acuracy\n",
    "    accuracy = sum(scores) / len(scores)\n",
    "    #confusion matrix\n",
    "    ypred = kNN.predict(x_test)\n",
    "    conf_matrix += confusion_matrix(y_test, ypred, labels=[1, 2,3])"
   ]
  },
  {
   "cell_type": "code",
   "execution_count": 6,
   "id": "2206928f-a2c7-4ffa-9cb6-ca98bbf12b8b",
   "metadata": {},
   "outputs": [
    {
     "name": "stdout",
     "output_type": "stream",
     "text": [
      "Accuracy of the LOOCV classifier: 0.77\n"
     ]
    }
   ],
   "source": [
    "print(\"Accuracy of the LOOCV classifier: {:.2f}\".format(accuracy))"
   ]
  },
  {
   "cell_type": "code",
   "execution_count": 7,
   "id": "47dfa239-6fa0-4d8f-b470-76e9a9f9523d",
   "metadata": {},
   "outputs": [
    {
     "name": "stdout",
     "output_type": "stream",
     "text": [
      "[[52.  3.  4.]\n",
      " [ 5. 54. 12.]\n",
      " [ 3. 14. 31.]]\n"
     ]
    }
   ],
   "source": [
    "print(conf_matrix)"
   ]
  },
  {
   "cell_type": "markdown",
   "id": "9b4a5436-fd89-41b9-8d93-254186784fe6",
   "metadata": {},
   "source": [
    "### b.) "
   ]
  },
  {
   "cell_type": "code",
   "execution_count": 8,
   "id": "585890de-eccb-495b-a9e7-9a0899b0e34a",
   "metadata": {},
   "outputs": [],
   "source": [
    "kfold = KFold(n_splits=20, shuffle=True,random_state=0)\n",
    "k_values = []\n",
    "accuracies = []\n",
    "\n",
    "#start iterating through the k values\n",
    "for k in range(2,101,5): \n",
    "    kfold.n_splits = k\n",
    "    k_values.append(k) #store our kvalues\n",
    "    scores= cross_val_score(kNN, x, y, cv=kfold) #k-fold cross-validation\n",
    "    accuracies.append(scores.mean())"
   ]
  },
  {
   "cell_type": "code",
   "execution_count": 9,
   "id": "5e9d9f16-aeff-453b-b067-ceba1a51c5d2",
   "metadata": {},
   "outputs": [
    {
     "data": {
      "image/png": "[encoded data removed]",
      "text/plain": [
       "<Figure size 432x288 with 1 Axes>"
      ]
     },
     "metadata": {
      "needs_background": "light"
     },
     "output_type": "display_data"
    }
   ],
   "source": [
    "#plotting\n",
    "plt.plot(k_values, accuracies)\n",
    "plt.xlabel('k values')\n",
    "plt.ylabel('Accuracy')\n",
    "plt.title('k values vs Accuracy')\n",
    "plt.show()"
   ]
  },
  {
   "cell_type": "markdown",
   "id": "2f82dbfe-7f75-4f5c-906d-d2c4178e247d",
   "metadata": {},
   "source": [
    "### c)"
   ]
  },
  {
   "cell_type": "code",
   "execution_count": 10,
   "id": "d31d678c-b6a2-4754-bf94-8b6612c44538",
   "metadata": {},
   "outputs": [],
   "source": [
    "from sklearn.preprocessing import MinMaxScaler\n",
    "\n",
    "scaler = MinMaxScaler()\n",
    "scaler.fit(x)\n",
    "x_normalized = scaler.transform(x)"
   ]
  },
  {
   "cell_type": "code",
   "execution_count": 11,
   "id": "0957d59d-c5c4-41f1-9cdf-ff208ad9a573",
   "metadata": {},
   "outputs": [],
   "source": [
    "#1-NN Classifier\n",
    "knn = KNeighborsClassifier(n_neighbors=1)\n",
    "#LOOOCV Classifier\n",
    "loo = LeaveOneOut()\n",
    "\n",
    "#initialize\n",
    "scores2=[]\n",
    "conf_matrix2= np.zeros((3,3))\n",
    "#train and test the classifiers\n",
    "for train_index2, test_index2 in loo.split(x_normalized):\n",
    "    x_train2, x_test2 = x[train_index2], x[test_index2] #generate indices with loo\n",
    "    y_train2, y_test2 = y[train_index2], y[test_index2]\n",
    "    knn.fit(x_train2, y_train2)\n",
    "    score2 = knn.score(x_test2, y_test2)\n",
    "    scores2.append(score2)\n",
    "    #acuracy\n",
    "    accuracy2 = sum(scores2) / len(scores2)\n",
    "    #confusion matrix\n",
    "    ypred2 = knn.predict(x_test2)\n",
    "    conf_matrix2 += confusion_matrix(y_test2, ypred2, labels=[1, 2,3])"
   ]
  },
  {
   "cell_type": "code",
   "execution_count": 12,
   "id": "9d0b2933-f103-4119-91f8-9cc4e3be3ca2",
   "metadata": {},
   "outputs": [
    {
     "name": "stdout",
     "output_type": "stream",
     "text": [
      "Accuracy of the LOOCV classifier: 0.77\n"
     ]
    }
   ],
   "source": [
    "print(\"Accuracy of the LOOCV classifier: {:.2f}\".format(accuracy2))"
   ]
  },
  {
   "cell_type": "code",
   "execution_count": 13,
   "id": "91659d19-e452-4067-b29e-4b5c0a778335",
   "metadata": {},
   "outputs": [
    {
     "name": "stdout",
     "output_type": "stream",
     "text": [
      "[[52.  3.  4.]\n",
      " [ 5. 54. 12.]\n",
      " [ 3. 14. 31.]]\n"
     ]
    }
   ],
   "source": [
    "print(conf_matrix2)"
   ]
  },
  {
   "cell_type": "markdown",
   "id": "a1ad4e80-0d1d-41fd-8b51-7875764e1e64",
   "metadata": {},
   "source": [
    "Normalization did not help the performance of my model. This could be due to the small size of my model - 178 observations. Another option is that my data was already on the same scale, and normalization may not have any effect on my model's performance."
   ]
  },
  {
   "cell_type": "markdown",
   "id": "a117c5b5-86c7-42fd-a8aa-05507051a11b",
   "metadata": {},
   "source": [
    "## 2. Gaussian scatterplots"
   ]
  },
  {
   "cell_type": "code",
   "execution_count": 14,
   "id": "71057640-8d81-4624-a780-c0c4d094cff5",
   "metadata": {},
   "outputs": [
    {
     "data": {
      "image/png": "[encoded data removed]",
      "text/plain": [
       "<Figure size 432x288 with 1 Axes>"
      ]
     },
     "metadata": {
      "needs_background": "light"
     },
     "output_type": "display_data"
    }
   ],
   "source": [
    "mean = [0, 0]\n",
    "cov = [[9, 0], [0, 1]]\n",
    "\n",
    "# draw 100 random samples\n",
    "samples = np.random.multivariate_normal(mean, cov, 100)\n",
    "\n",
    "# extract the x and y coordinates\n",
    "x = samples[:, 0] # array of two columns and 100rows, 1st row is the x\n",
    "y = samples[:, 1]\n",
    "\n",
    "\n",
    "# plot the samples\n",
    "plt.scatter(x, y)\n",
    "plt.xlabel('x')\n",
    "plt.ylabel('y')\n",
    "plt.title('First Gaussian Distribution')\n",
    "plt.show()"
   ]
  },
  {
   "cell_type": "code",
   "execution_count": 15,
   "id": "b9053042-f003-45c7-a92e-5394eeae0d23",
   "metadata": {},
   "outputs": [
    {
     "data": {
      "image/png": "[encoded data removed]",
      "text/plain": [
       "<Figure size 432x288 with 1 Axes>"
      ]
     },
     "metadata": {
      "needs_background": "light"
     },
     "output_type": "display_data"
    }
   ],
   "source": [
    "mean = [0, 0]\n",
    "cov = [[1, -0.75], [-0.75, 1]]\n",
    "\n",
    "# draw 100 random samples\n",
    "samples = np.random.multivariate_normal(mean, cov, 100)\n",
    "\n",
    "# extract the x and y coordinates\n",
    "x = samples[:, 0] # array of two columns and 100rows, 1st row is the x\n",
    "y = samples[:, 1]\n",
    "\n",
    "# plot the samples\n",
    "plt.scatter(x, y)\n",
    "plt.xlabel('x')\n",
    "plt.ylabel('y')\n",
    "plt.title('Second Gaussian Distribution')\n",
    "plt.show()"
   ]
  },
  {
   "cell_type": "code",
   "execution_count": null,
   "id": "21673a26-b12c-4954-95de-352f417c6f91",
   "metadata": {},
   "outputs": [],
   "source": []
  }
 ],
 "metadata": {
  "kernelspec": {
   "display_name": "Python 3",
   "language": "python",
   "name": "python3"
  },
  "language_info": {
   "codemirror_mode": {
    "name": "ipython",
    "version": 3
   },
   "file_extension": ".py",
   "mimetype": "text/x-python",
   "name": "python",
   "nbconvert_exporter": "python",
   "pygments_lexer": "ipython3",
   "version": "3.9.2"
  }
 },
 "nbformat": 4,
 "nbformat_minor": 5
}
