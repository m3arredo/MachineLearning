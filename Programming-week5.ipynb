{
 "cells": [
  {
   "cell_type": "markdown",
   "id": "711234af-b853-452a-9534-d59415ea9fa7",
   "metadata": {},
   "source": [
    "### HOMEWORK 5- Programming Lab"
   ]
  },
  {
   "cell_type": "markdown",
   "id": "e4e63543-5c4f-4929-b869-954d63788c8d",
   "metadata": {},
   "source": [
    "#### 1)"
   ]
  },
  {
   "cell_type": "markdown",
   "id": "9c349034-4517-4461-bdc3-4e209f81659b",
   "metadata": {},
   "source": [
    "##### i)"
   ]
  },
  {
   "cell_type": "markdown",
   "id": "21757df6-901d-4180-8767-01744072aae8",
   "metadata": {},
   "source": [
    "Since cycling through all the coordinates takes more time, we will be choosing a random coordinate, and we will continue to move in the negative gradient until convergence. "
   ]
  },
  {
   "cell_type": "markdown",
   "id": "8c3b1dac-65e0-4653-8a69-a93bcfc6d221",
   "metadata": {},
   "source": [
    "##### ii)"
   ]
  },
  {
   "cell_type": "markdown",
   "id": "f553924a-d430-43c4-a8d9-78b74492cd8c",
   "metadata": {},
   "source": [
    "W(i) will be updated by moving in the direction of the negative gradient, and it will be updated to the parameters that make the loss function zero (or as close as possible). "
   ]
  },
  {
   "cell_type": "markdown",
   "id": "5020ecf9-c3ad-4665-a6ce-89ad5313e6f3",
   "metadata": {},
   "source": [
    "#### a)"
   ]
  },
  {
   "cell_type": "markdown",
   "id": "6b541baf-192c-4369-ac28-31422df7dcbd",
   "metadata": {},
   "source": [
    "##### Short, high level description of your coordinate descent method"
   ]
  },
  {
   "cell_type": "markdown",
   "id": "5d525022-235c-4cc8-8ac7-c1e51306907e",
   "metadata": {},
   "source": [
    "This notebook showcases two different approaches to implementing coordinate descent on model:\n",
    "-Randomly optimize along a random coordinate.\n",
    "-Optimize along coordinate with the largest gradient in magnitude\n",
    "I used log_loss from sklearn for L(w).\n",
    "\n",
    "1. Initialize weights to zero\n",
    "\n",
    "2. Get predictions from the (1 / (1- exp(-x*w) ) function\n",
    "\n",
    "3. Calculate loss and gradients\n",
    "\n",
    "4. Find Coordinate i with the largest gradient in absolute value (best coordinate descent) or randomly choose weight (random coordinate descent)\n",
    "\n",
    "5. Update weight using: w[i] = w[i] - n* (dL(w)/dw)\n",
    " \n",
    "6. Repeat (1) - (5) until convergence\n",
    "\n",
    "\n",
    "Coordinate descent works with any loss function, it does not need to be diferrentiable at all points. This is because in coordinate descent we are updating one coordinate at a time, instead of updating all coordinates at once."
   ]
  },
  {
   "cell_type": "markdown",
   "id": "9fdde83e-2871-4eb3-add9-a760061362b2",
   "metadata": {},
   "source": [
    "#### b)"
   ]
  },
  {
   "cell_type": "markdown",
   "id": "8f5f8e89-3504-4852-a75a-cacf659de607",
   "metadata": {},
   "source": [
    "##### Convergence\n",
    "The method will converge when the loss is at or below the convergence treshold which should be close to zero. We also need to be careful to choose an n, step size, that is optimal to not overeshoot the optimal solution. \n"
   ]
  },
  {
   "cell_type": "code",
   "execution_count": 3,
   "id": "7eb2a6b0-81f6-4d89-9dd4-163f940e8f76",
   "metadata": {},
   "outputs": [],
   "source": [
    "import numpy as np\n",
    "import pandas as pd\n",
    "import matplotlib.pyplot as plt\n",
    "from sklearn.linear_model import LogisticRegression\n",
    "from sklearn.metrics import log_loss\n",
    "from sklearn.metrics import accuracy_score\n",
    "import sklearn\n",
    "from sklearn.model_selection import train_test_split\n",
    "from tqdm import tqdm\n",
    "from random import randint"
   ]
  },
  {
   "cell_type": "code",
   "execution_count": 20,
   "id": "1a5ff9bf-fba5-446d-9432-86e45dd653ba",
   "metadata": {},
   "outputs": [],
   "source": [
    "#load data \n",
    "df = pd.read_csv(\"C:/Users/mary0/Masters- Data Science/Winter 2023/255R/Week4/heart.csv\")\n",
    "X = df.drop(\"target\", axis=1)\n",
    "y = df[\"target\"]\n",
    "\n",
    "# logistic regression model\n",
    "reg = LogisticRegression(max_iter = 10000).fit(X, y)\n",
    "\n",
    "# values of b and w\n",
    "b = reg.intercept_[0]\n",
    "w = reg.coef_[0]\n",
    "params = np.concatenate((w, b.reshape(1)))\n",
    "\n",
    "preds = reg.predict_proba(X)\n",
    "L_star = log_loss(y, preds)"
   ]
  },
  {
   "cell_type": "code",
   "execution_count": 21,
   "id": "e12e8b5c-620a-4fbf-9c40-4aaccae3dd12",
   "metadata": {},
   "outputs": [
    {
     "name": "stdout",
     "output_type": "stream",
     "text": [
      "Loss L* =0.35010636303140485\n"
     ]
    }
   ],
   "source": [
    "print(\"Loss L* ={}\".format(L_star) )"
   ]
  },
  {
   "cell_type": "code",
   "execution_count": 46,
   "id": "74d31b23-195a-4402-84e0-99abf1a496f9",
   "metadata": {},
   "outputs": [],
   "source": [
    "def add_bias(X):\n",
    "    ones = np.ones((X.shape[0], 1))\n",
    "    return np.hstack((ones, X))\n",
    "\n",
    "X = add_bias(X)\n",
    "params = np.zeros(X.shape[1])\n",
    "\n",
    "def predict(w, x):\n",
    "    return 1 / ( 1 + np.exp(-np.dot(x , w) ) )\n",
    "\n",
    "def calculate_loss(y, w, x): \n",
    "    preds = predict(w, x)\n",
    "    return log_loss(y, preds)\n",
    "\n",
    "def add_or_sub(w, x, y, prev_loss, j, amount):\n",
    "    w_minus = w.copy()\n",
    "    w_minus[j] -= amount\n",
    "    loss_minus = calculate_loss(y, w_minus, x)\n",
    "    \n",
    "    w_plus = w.copy()\n",
    "    w_plus[j] += amount\n",
    "    loss_plus = calculate_loss(y, w_plus, x)\n",
    "    \n",
    "    if loss_minus < prev_loss:\n",
    "        return -1\n",
    "    elif loss_plus < prev_loss: \n",
    "        return 1 \n",
    "    else:\n",
    "        return 0\n"
   ]
  },
  {
   "cell_type": "code",
   "execution_count": 140,
   "id": "95d8b62f-07d3-4e97-a67a-4911672685b7",
   "metadata": {},
   "outputs": [],
   "source": [
    "def random_coordinate_descent(X, y, params, learning_rate=0.01, epochs=100):\n",
    "    losses = []\n",
    "    for epoch in range(int(epochs)):\n",
    "        j = np.random.randint(0, len(params))\n",
    "        direction = add_or_sub(params, X, y, calculate_loss(y, params, X), j, learning_rate)\n",
    "        params[j] += direction * learning_rate\n",
    "        current_loss = calculate_loss(y, params, X)\n",
    "        losses.append(current_loss)\n",
    "    return params, losses\n",
    "\n",
    "params, losses = random_coordinate_descent(X, y, params)\n",
    "random_coor = losses"
   ]
  },
  {
   "cell_type": "code",
   "execution_count": 141,
   "id": "7ac001aa-2190-40b5-afc9-818f867a0af9",
   "metadata": {},
   "outputs": [
    {
     "data": {
      "image/png": "[encoded data removed]",
      "text/plain": [
       "<Figure size 432x288 with 1 Axes>"
      ]
     },
     "metadata": {
      "needs_background": "light"
     },
     "output_type": "display_data"
    }
   ],
   "source": [
    "plt.plot(range(len(losses)), losses)\n",
    "plt.title('Random Coordinate Descent')\n",
    "plt.xlabel('Iterations')\n",
    "plt.ylabel('Log Loss')\n",
    "plt.show()"
   ]
  },
  {
   "cell_type": "markdown",
   "id": "c10e3dde-2c05-4e6f-a57b-423c43e9facd",
   "metadata": {},
   "source": [
    "Instead of choosing a random coordinate, we choose the coordinate with the largest gradient in magnitude"
   ]
  },
  {
   "cell_type": "code",
   "execution_count": 144,
   "id": "a98e4db3-39c9-4c65-b351-a73037ebcf15",
   "metadata": {},
   "outputs": [],
   "source": [
    "def gradient_descent(X, y, params, learning_rate=0.01, epochs=100):\n",
    "    losses = []\n",
    "    for epoch in range(int(epochs)):\n",
    "        gradients = []\n",
    "        for j in range(len(params)):\n",
    "            direction = add_or_sub(params, X, y, calculate_loss(y, params, X), j, learning_rate)\n",
    "            gradient = learning_rate * direction\n",
    "            gradients.append(gradient)\n",
    "        j = np.argmax(np.abs(gradients))\n",
    "        params[j] += gradients[j]\n",
    "        current_loss = calculate_loss(y, params, X)\n",
    "        losses.append(current_loss)\n",
    "    return params, losses\n",
    "\n",
    "params, losses = gradient_descent(X, y, np.zeros(X.shape[1]))\n",
    "largest_gradient = losses"
   ]
  },
  {
   "cell_type": "code",
   "execution_count": 145,
   "id": "3bfb4b06-a82b-4e7c-b82c-e2ab027a42a0",
   "metadata": {},
   "outputs": [
    {
     "data": {
      "image/png": "[encoded data removed]",
      "text/plain": [
       "<Figure size 432x288 with 1 Axes>"
      ]
     },
     "metadata": {
      "needs_background": "light"
     },
     "output_type": "display_data"
    }
   ],
   "source": [
    "plt.plot(range(len(losses)), losses)\n",
    "plt.title('Picking a Coordinate for Greatest Improvement')\n",
    "plt.xlabel('Iterations')\n",
    "plt.ylabel('Log Loss')\n",
    "plt.show()"
   ]
  },
  {
   "cell_type": "code",
   "execution_count": 149,
   "id": "81044e19-8350-40be-9cb1-a2a0144b420a",
   "metadata": {},
   "outputs": [
    {
     "data": {
      "image/png": "[encoded data removed]",
      "text/plain": [
       "<Figure size 432x288 with 1 Axes>"
      ]
     },
     "metadata": {
      "needs_background": "light"
     },
     "output_type": "display_data"
    }
   ],
   "source": [
    "plt.plot(random_coor, label='Random Coordinate Descent')\n",
    "plt.plot(largest_gradient, label='Coordinate Descent with Largest Gradient')\n",
    "plt.legend(loc='lower left')\n",
    "plt.xlabel('Iterations')\n",
    "plt.ylabel('Loss')\n",
    "plt.title('Comparing Losses of Two Optimization Methods')\n",
    "plt.show()"
   ]
  },
  {
   "cell_type": "code",
   "execution_count": null,
   "id": "2ca22977-f562-4a6a-b708-9de409e724a3",
   "metadata": {},
   "outputs": [],
   "source": []
  }
 ],
 "metadata": {
  "kernelspec": {
   "display_name": "Python 3",
   "language": "python",
   "name": "python3"
  },
  "language_info": {
   "codemirror_mode": {
    "name": "ipython",
    "version": 3
   },
   "file_extension": ".py",
   "mimetype": "text/x-python",
   "name": "python",
   "nbconvert_exporter": "python",
   "pygments_lexer": "ipython3",
   "version": "3.9.2"
  }
 },
 "nbformat": 4,
 "nbformat_minor": 5
}
