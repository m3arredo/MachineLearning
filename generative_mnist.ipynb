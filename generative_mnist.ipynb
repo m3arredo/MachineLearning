{
 "cells": [
  {
   "cell_type": "markdown",
   "metadata": {},
   "source": [
    "# Gaussian generative models for handwritten digit classification"
   ]
  },
  {
   "cell_type": "markdown",
   "metadata": {},
   "source": [
    "Recall that the 1-NN classifier yielded a 3.09% test error rate on the MNIST data set of handwritten digits. We will now see that a Gaussian generative model does almost as well, while being significantly faster and more compact."
   ]
  },
  {
   "cell_type": "markdown",
   "metadata": {
    "tags": []
   },
   "source": [
    "## 1. Set up notebook and load in data"
   ]
  },
  {
   "cell_type": "markdown",
   "metadata": {},
   "source": [
    "As usual, we start by importing the required packages and data. For this notebook we will be using the *entire* `MNIST` dataset. The code below defines some helper functions that will load `MNIST` onto your computer."
   ]
  },
  {
   "cell_type": "code",
   "execution_count": 1,
   "metadata": {},
   "outputs": [],
   "source": [
    "import sys\n",
    "from scipy.stats import multivariate_normal\n",
    "from sklearn.metrics import accuracy_score\n",
    "from sklearn.model_selection import KFold\n",
    "from sklearn.metrics import mean_squared_error\n",
    "from sklearn.mixture import GaussianMixture\n",
    "from sklearn.metrics import precision_score\n",
    "from sklearn.metrics import recall_score\n",
    "from sklearn.metrics import f1_score"
   ]
  },
  {
   "cell_type": "code",
   "execution_count": 2,
   "metadata": {
    "tags": []
   },
   "outputs": [],
   "source": [
    "%matplotlib inline\n",
    "import matplotlib.pyplot as plt \n",
    "import gzip, os\n",
    "import numpy as np\n",
    "from scipy.stats import multivariate_normal\n",
    "\n",
    "if sys.version_info[0] == 2:\n",
    "    from urllib import urlretrieve\n",
    "else:\n",
    "    from urllib.request import urlretrieve"
   ]
  },
  {
   "cell_type": "code",
   "execution_count": 3,
   "metadata": {
    "tags": []
   },
   "outputs": [],
   "source": [
    "# Function that downloads a specified MNIST data file from Yann Le Cun's website\n",
    "def download(filename, source='http://yann.lecun.com/exdb/mnist/'):\n",
    "    print(\"Downloading %s\" % filename)\n",
    "    urlretrieve(source + filename, filename)\n",
    "\n",
    "# Invokes download() if necessary, then reads in images\n",
    "def load_mnist_images(filename):\n",
    "    if not os.path.exists(filename):\n",
    "        download(filename)\n",
    "    with gzip.open(filename, 'rb') as f:\n",
    "        data = np.frombuffer(f.read(), np.uint8, offset=16)\n",
    "    data = data.reshape(-1,784)\n",
    "    return data\n",
    "\n",
    "def load_mnist_labels(filename):\n",
    "    if not os.path.exists(filename):\n",
    "        download(filename)\n",
    "    with gzip.open(filename, 'rb') as f:\n",
    "        data = np.frombuffer(f.read(), np.uint8, offset=8)\n",
    "    return data"
   ]
  },
  {
   "cell_type": "markdown",
   "metadata": {},
   "source": [
    "Now load in the training set and test set"
   ]
  },
  {
   "cell_type": "code",
   "execution_count": 4,
   "metadata": {
    "tags": []
   },
   "outputs": [],
   "source": [
    "## Load the training set\n",
    "train_data = load_mnist_images('train-images-idx3-ubyte.gz')\n",
    "train_labels = load_mnist_labels('train-labels-idx1-ubyte.gz')\n",
    "\n",
    "## Load the testing set\n",
    "test_data = load_mnist_images('t10k-images-idx3-ubyte.gz')\n",
    "test_labels = load_mnist_labels('t10k-labels-idx1-ubyte.gz')"
   ]
  },
  {
   "cell_type": "markdown",
   "metadata": {},
   "source": [
    "The function **displaychar** shows a single MNIST digit. To do this, it first has to reshape the 784-dimensional vector into a 28x28 image."
   ]
  },
  {
   "cell_type": "code",
   "execution_count": 5,
   "metadata": {
    "tags": []
   },
   "outputs": [],
   "source": [
    "def displaychar(image):\n",
    "    plt.imshow(np.reshape(image, (28,28)), cmap=plt.cm.gray)\n",
    "    plt.axis('off')\n",
    "    plt.show()"
   ]
  },
  {
   "cell_type": "code",
   "execution_count": 6,
   "metadata": {},
   "outputs": [
    {
     "data": {
      "image/png": "[encoded data removed]",
      "text/plain": [
       "<Figure size 640x480 with 1 Axes>"
      ]
     },
     "metadata": {},
     "output_type": "display_data"
    }
   ],
   "source": [
    "displaychar(train_data[58])"
   ]
  },
  {
   "cell_type": "markdown",
   "metadata": {},
   "source": [
    "The training set consists of 60,000 images. Thus `train_data` should be a 60000x784 array while `train_labels` should be 60000x1. Let's check."
   ]
  },
  {
   "cell_type": "code",
   "execution_count": 7,
   "metadata": {},
   "outputs": [
    {
     "data": {
      "text/plain": [
       "((60000, 784), (60000,))"
      ]
     },
     "execution_count": 7,
     "metadata": {},
     "output_type": "execute_result"
    }
   ],
   "source": [
    "train_data.shape, train_labels.shape"
   ]
  },
  {
   "cell_type": "markdown",
   "metadata": {},
   "source": [
    "## 2. Fit a Gaussian generative model to the training data"
   ]
  },
  {
   "cell_type": "markdown",
   "metadata": {},
   "source": [
    "**<font color=\"magenta\">For you to do:</font>** Define a function, **fit_generative_model**, that takes as input a training set (data `x` and labels `y`) and fits a Gaussian generative model to it. It should return the parameters of this generative model; for each label `j = 0,1,...,9`, we have:\n",
    "* `pi[j]`: the frequency of that label\n",
    "* `mu[j]`: the 784-dimensional mean vector\n",
    "* `sigma[j]`: the 784x784 covariance matrix\n",
    "\n",
    "This means that `pi` is 10x1, `mu` is 10x784, and `sigma` is 10x784x784.\n",
    "\n",
    "We have already seen how to fit a Gaussian generative model in the Winery example, but now there is an added ingredient. <font color=\"magenta\">The empirical covariances are very likely to be singular (or close to singular), which means that we won't be able to do calculations with them</font>. Thus it is important to **regularize** these matrices. The standard way of doing this is to add `cI` to them, where `c` is some constant and `I` is the 784-dimensional identity matrix. (To put it another way, we compute the empirical covariances and then increase their diagonal entries by some constant `c`.)\n",
    "\n",
    "This modification is guaranteed to yield covariance matrices that are non-singular, for any `c > 0`, no matter how small. But this doesn't mean that we should make `c` as small as possible. Indeed, `c` is now a parameter, and by setting it appropriately, we can improve the performance of the model. We will study **regularization** in greater detail over the coming weeks.\n",
    "\n",
    "Your routine needs to choose a good setting of `c`. Crucially, this needs to be done using the training set alone. So you might try setting aside part of the training set as a validation set, or using some kind of cross-validation."
   ]
  },
  {
   "cell_type": "code",
   "execution_count": 8,
   "metadata": {},
   "outputs": [],
   "source": [
    "t_data = train_data[:50000, :] #training set\n",
    "t_labels = train_labels[:50000] #training set labels\n",
    "vt_data = train_data[-10000: , :] #validation training set\n",
    "vt_labels = train_labels[-10000:] #validation training labels"
   ]
  },
  {
   "cell_type": "code",
   "execution_count": 9,
   "metadata": {
    "tags": []
   },
   "outputs": [],
   "source": [
    "def fit_generative_model(x,y):\n",
    "    k = 10  # labels 0,1,...,k-1\n",
    "    d = (x.shape)[1]  # number of features\n",
    "    mu = np.zeros((k,d))\n",
    "    sigma = np.zeros((k,d,d))\n",
    "    pi = np.zeros(k)\n",
    "   \n",
    "    for label in range(k): #data for each class\n",
    "        x_class = x[y == label] # only selecting rows that are true for y==label\n",
    "        pi[label] = len(x_class)/len(x) #probability by getting the length of that class vs all classes\n",
    "        mu[label] = np.mean(x_class, axis=0) #mean across each class(column)\n",
    "        sigma[label] = np.cov(x_class.T) #using the np.cov needs n_samples and n_features\n",
    "    # create a list of Gaussian distributions for each label\n",
    "    #gaussians = [multivariate_normal(mean=mu[i], cov=sigma[i]) for i in range(k)]\n",
    "    return mu, sigma, pi"
   ]
  },
  {
   "cell_type": "markdown",
   "metadata": {},
   "source": [
    "Okay, let's try out your function. In particular, we will use **displaychar** to visualize the means of the Gaussians for the first three digits. You can try the other digits on your own."
   ]
  },
  {
   "cell_type": "code",
   "execution_count": 10,
   "metadata": {},
   "outputs": [
    {
     "data": {
      "image/png": "[encoded data removed]",
      "text/plain": [
       "<Figure size 640x480 with 1 Axes>"
      ]
     },
     "metadata": {},
     "output_type": "display_data"
    },
    {
     "data": {
      "image/png": "[encoded data removed]",
      "text/plain": [
       "<Figure size 640x480 with 1 Axes>"
      ]
     },
     "metadata": {},
     "output_type": "display_data"
    },
    {
     "data": {
      "image/png": "[encoded data removed]",
      "text/plain": [
       "<Figure size 640x480 with 1 Axes>"
      ]
     },
     "metadata": {},
     "output_type": "display_data"
    }
   ],
   "source": [
    "mu, sigma, pi = fit_generative_model(train_data, train_labels)\n",
    "displaychar(mu[0])\n",
    "displaychar(mu[1])\n",
    "displaychar(mu[2])"
   ]
  },
  {
   "cell_type": "code",
   "execution_count": 11,
   "metadata": {},
   "outputs": [
    {
     "name": "stdout",
     "output_type": "stream",
     "text": [
      "c=0.01:\n",
      "Accuracy: 0.1357\n",
      "Precision: 0.14653297239830762\n",
      "Recall: 0.12796316077052958\n",
      "F1-score: 0.13100016488711283\n",
      "c=1:\n",
      "Accuracy: 0.1346\n",
      "Precision: 0.12951111050635516\n",
      "Recall: 0.1359177543201893\n",
      "F1-score: 0.1257039872899967\n",
      "c=100.0:\n",
      "Accuracy: 0.0427\n",
      "Precision: 0.04737968421283656\n",
      "Recall: 0.0447675662589766\n",
      "F1-score: 0.044564722642612103\n",
      "c=1000.0:\n",
      "Accuracy: 0.0516\n",
      "Precision: 0.06401368378005041\n",
      "Recall: 0.05164792595076928\n",
      "F1-score: 0.05665497196552928\n",
      "c=10000.0:\n",
      "Accuracy: 0.0323\n",
      "Precision: 0.06531449864429868\n",
      "Recall: 0.032755385358618425\n",
      "F1-score: 0.04031115080347495\n",
      "c=100000.0:\n",
      "Accuracy: 0.0958\n",
      "Precision: 0.09822676900637897\n",
      "Recall: 0.09485296216758063\n",
      "F1-score: 0.08277131229957185\n",
      "c=10000000000.0:\n",
      "Accuracy: 0.1135\n",
      "Precision: 0.01135\n",
      "Recall: 0.1\n",
      "F1-score: 0.0203861697350696\n"
     ]
    },
    {
     "name": "stderr",
     "output_type": "stream",
     "text": [
      "c:\\users\\mary0\\appdata\\local\\programs\\python\\python39\\lib\\site-packages\\sklearn\\metrics\\_classification.py:1245: UndefinedMetricWarning: Precision is ill-defined and being set to 0.0 in labels with no predicted samples. Use `zero_division` parameter to control this behavior.\n",
      "  _warn_prf(average, modifier, msg_start, len(result))\n"
     ]
    }
   ],
   "source": [
    "c_values = [1e-2, 1, 1e2,1e3, 1e4, 1e5, 1e10] \n",
    "#train Gaussian model w/different c's \n",
    "models=[]\n",
    "for c in c_values:\n",
    "    model = GaussianMixture(n_components=10, covariance_type='full', \n",
    "                            reg_covar = c)\n",
    "    model.fit(vt_data)\n",
    "    models.append(model)\n",
    "for i, model in enumerate(models):\n",
    "    y_pred = model.predict(test_data)\n",
    "    print(f'c={c_values[i]}:')\n",
    "    print(f'Accuracy: {accuracy_score(test_labels, y_pred)}')\n",
    "    print(f'Precision: {precision_score(test_labels, y_pred, average=\"macro\")}')\n",
    "    print(f'Recall: {recall_score(test_labels, y_pred, average=\"macro\")}')\n",
    "    print(f'F1-score: {f1_score(test_labels, y_pred, average=\"macro\")}')"
   ]
  },
  {
   "cell_type": "markdown",
   "metadata": {},
   "source": [
    "From the previous test, we will be using c = 100 for the regularization of the matrices. This value was chosen due to its accuracy among the other c-values. (The code changed accuracy later. )"
   ]
  },
  {
   "cell_type": "code",
   "execution_count": 12,
   "metadata": {},
   "outputs": [],
   "source": [
    "# before continuing, we received a singular matrix error so we will try to fix it by cI (c - constant & I - identity matrix)\n",
    "# we will use validation set to find c\n",
    "def fit_generative_model2(x,y):\n",
    "    k = 10  # labels 0,1,...,k-1\n",
    "    d = (x.shape)[1]  # number of features\n",
    "    mu = np.zeros((k,d))\n",
    "    sigma = np.zeros((k,d,d))\n",
    "    pi = np.zeros(k)\n",
    "    c = 100\n",
    "   \n",
    "    for label in range(k): #data for each class\n",
    "        x_class = x[y == label] # only selecting rows that are true for y==label\n",
    "        pi[label] = len(x_class)/len(x) #probability by getting the length of that class vs all classes\n",
    "        mu[label] = np.mean(x_class, axis=0) #mean across each class(column)\n",
    "        sigma[label] = np.cov(x_class.T) + c*np.identity(d) #using the np.cov needs n_samples and n_features\n",
    "    # create a list of Gaussian distributions for each label\n",
    "    #gaussians = [multivariate_normal(mean=mu[i], cov=sigma[i]) for i in range(k)]\n",
    "    return mu, sigma, pi"
   ]
  },
  {
   "cell_type": "code",
   "execution_count": 13,
   "metadata": {},
   "outputs": [],
   "source": [
    "mu,sigma,pi = fit_generative_model2(t_data, t_labels)"
   ]
  },
  {
   "cell_type": "code",
   "execution_count": 14,
   "metadata": {},
   "outputs": [],
   "source": [
    "# Baye's Rule\n",
    "# P(c|x) = (P(x|c) * P(c)) \n",
    "def classify_new_image(x_bayes):\n",
    "    k = 10  # labels 0,1,...,k-1\n",
    "    likelihood = np.zeros(k) #P(x|c)\n",
    "    for label in range(k):\n",
    "        likelihood[label] = multivariate_normal.pdf(x_bayes , mean = mu[label] , cov=sigma[label])\n",
    "        posterior = likelihood * pi[label] #P(c|x)\n",
    "        prediction = np.argmax(posterior) #pi j *Pj is largest\n",
    "        return posterior"
   ]
  },
  {
   "cell_type": "markdown",
   "metadata": {},
   "source": [
    "## 3. Make predictions on test data"
   ]
  },
  {
   "cell_type": "markdown",
   "metadata": {},
   "source": [
    "Now let's see how many errors your model makes on the test set."
   ]
  },
  {
   "cell_type": "code",
   "execution_count": 15,
   "metadata": {},
   "outputs": [
    {
     "name": "stdout",
     "output_type": "stream",
     "text": [
      "Your model makes 801 errors out of 10000\n"
     ]
    }
   ],
   "source": [
    "# Compute log Pr(label|image) for each [test image,label] pair.\n",
    "k = 10\n",
    "score = np.zeros((len(test_labels),k))\n",
    "for label in range(0,k):\n",
    "    rv = multivariate_normal(mean=mu[label], cov=sigma[label])\n",
    "    for i in range(0,len(test_labels)):\n",
    "       score[i,label] = np.log(pi[label]) + rv.logpdf(test_data[i,:])\n",
    "predictions = np.argmax(score, axis=1)\n",
    "# Finally, tally up score\n",
    "errors = np.sum(predictions != test_labels)\n",
    "print (\"Your model makes \" + str(errors) + \" errors out of 10000\")"
   ]
  },
  {
   "cell_type": "markdown",
   "metadata": {},
   "source": [
    "## 4. Quick exercises"
   ]
  },
  {
   "cell_type": "markdown",
   "metadata": {},
   "source": [
    "*You will need to answer variants of these questions as part of this week's assignment*."
   ]
  },
  {
   "cell_type": "markdown",
   "metadata": {},
   "source": [
    "<font color=\"magenta\">Exercise 1:</font> Pseucode for your training procedure, making it clear how the validation set was created and used. "
   ]
  },
  {
   "cell_type": "markdown",
   "metadata": {},
   "source": [
    "<font color=\"blue\">1:</font> Notes were left during the code to make it useful for others to understand what is going on. The process was dividing our training set into two sets called t_data and vt_data. We then finished the function of fit_generative_model which gives us the pi, mu and sigma. However, we had a singular matrix problem, so we used the validation data to find a c. This was done by training a model using GaussianMixture, and finding the c with the highest accuracy and F1 score. This c was determine to be 100, and it was then used for fit_generative_model2 which did the same as fit_generative_model but it regularized matrices by adding cI to sigma or covariances. Lastly, we created a function using Baye's rule called classify_new_image, and we lastly tested our model by using log pi + logPi(x). We found that the model made 801 errors out of 10000. This is an error rate of 8.01%. "
   ]
  },
  {
   "cell_type": "markdown",
   "metadata": {},
   "source": [
    "<font color=\"magenta\">Exercise 2:</font> Did you use a single value of c for all ten classes, or seperate values for each class? What value(s) of c did you get?"
   ]
  },
  {
   "cell_type": "markdown",
   "metadata": {},
   "source": [
    "<font color=\"blue\"> 2:</font> The value for c was the same for all ten classes, and it was c =1e2 or c=100. The accuracy changed the last time I ran the models, but I still kept the same c-value since the error rate was the same. "
   ]
  },
  {
   "cell_type": "markdown",
   "metadata": {},
   "source": [
    "<font color=\"magenta\">Exercise 3:</font> What was the error rate on the MNIST test set?"
   ]
  },
  {
   "cell_type": "markdown",
   "metadata": {},
   "source": [
    "<font color=\"blue\"> 3:</font> The error rate was 8.01% on the test set."
   ]
  },
  {
   "cell_type": "markdown",
   "metadata": {},
   "source": [
    "<font color=\"magenta\"> Exercise 4:</font>: Out of the misclassified test digits, pick five ar eandome and display them. For each instance, list the posterior probabilities Pr(y|x) of each of the ten classes."
   ]
  },
  {
   "cell_type": "code",
   "execution_count": 16,
   "metadata": {},
   "outputs": [
    {
     "name": "stdout",
     "output_type": "stream",
     "text": [
      "(array([  18,   59,   61,   73,   80,   97,  111,  119,  133,  151,  175,\n",
      "        182,  195,  198,  211,  217,  220,  221,  240,  241,  247,  259,\n",
      "        264,  275,  282,  289,  320,  321,  333,  335,  340,  349,  352,\n",
      "        359,  362,  376,  397,  421,  425,  443,  444,  445,  448,  460,\n",
      "        468,  469,  478,  479,  495,  497,  508,  511,  515,  519,  520,\n",
      "        540,  542,  551,  571,  583,  605,  610,  613,  619,  624,  628,\n",
      "        631,  659,  666,  667,  669,  684,  689,  691,  699,  717,  720,\n",
      "        726,  728,  740,  741,  760,  771,  785,  791,  797,  829,  846,\n",
      "        857,  866,  876,  877,  895,  898,  906,  924,  939,  944,  947,\n",
      "        950,  956,  958,  965,  976,  978,  982, 1003, 1012, 1014, 1017,\n",
      "       1022, 1024, 1032, 1039, 1055, 1062, 1072, 1082, 1087, 1088, 1096,\n",
      "       1101, 1107, 1112, 1114, 1133, 1145, 1152, 1153, 1166, 1169, 1173,\n",
      "       1182, 1204, 1206, 1208, 1212, 1216, 1226, 1228, 1232, 1233, 1242,\n",
      "       1247, 1258, 1260, 1270, 1283, 1289, 1299, 1314, 1319, 1326, 1331,\n",
      "       1355, 1356, 1364, 1370, 1384, 1393, 1401, 1404, 1406, 1436, 1440,\n",
      "       1453, 1476, 1496, 1499, 1500, 1514, 1516, 1522, 1525, 1527, 1530,\n",
      "       1531, 1549, 1552, 1553, 1559, 1566, 1569, 1576, 1581, 1591, 1607,\n",
      "       1610, 1611, 1621, 1634, 1637, 1672, 1681, 1684, 1687, 1691, 1709,\n",
      "       1717, 1721, 1730, 1732, 1737, 1754, 1790, 1800, 1809, 1816, 1839,\n",
      "       1846, 1868, 1871, 1883, 1900, 1901, 1903, 1917, 1924, 1929, 1938,\n",
      "       1952, 1955, 1963, 1982, 2004, 2009, 2016, 2018, 2024, 2025, 2038,\n",
      "       2043, 2044, 2046, 2053, 2058, 2070, 2094, 2098, 2107, 2109, 2114,\n",
      "       2118, 2125, 2129, 2130, 2135, 2138, 2182, 2185, 2200, 2255, 2266,\n",
      "       2272, 2291, 2293, 2299, 2308, 2325, 2329, 2338, 2339, 2358, 2362,\n",
      "       2387, 2393, 2395, 2406, 2408, 2414, 2422, 2441, 2447, 2449, 2453,\n",
      "       2454, 2457, 2460, 2462, 2463, 2476, 2488, 2507, 2516, 2525, 2526,\n",
      "       2549, 2551, 2560, 2566, 2573, 2578, 2597, 2607, 2610, 2624, 2642,\n",
      "       2645, 2648, 2659, 2668, 2689, 2690, 2698, 2705, 2721, 2730, 2743,\n",
      "       2750, 2758, 2771, 2776, 2778, 2808, 2810, 2823, 2834, 2836, 2850,\n",
      "       2851, 2853, 2862, 2864, 2882, 2896, 2914, 2931, 2939, 2945, 2946,\n",
      "       2953, 2956, 2970, 2987, 2990, 2995, 3005, 3017, 3021, 3029, 3030,\n",
      "       3038, 3060, 3073, 3078, 3084, 3098, 3100, 3117, 3129, 3132, 3133,\n",
      "       3138, 3145, 3151, 3171, 3206, 3213, 3222, 3225, 3233, 3240, 3247,\n",
      "       3250, 3254, 3280, 3288, 3289, 3303, 3316, 3319, 3323, 3329, 3330,\n",
      "       3333, 3334, 3336, 3344, 3345, 3358, 3376, 3429, 3441, 3448, 3450,\n",
      "       3474, 3475, 3476, 3503, 3506, 3511, 3520, 3525, 3542, 3550, 3558,\n",
      "       3559, 3565, 3573, 3574, 3597, 3598, 3599, 3604, 3645, 3667, 3681,\n",
      "       3684, 3686, 3702, 3716, 3717, 3718, 3724, 3726, 3727, 3730, 3732,\n",
      "       3742, 3751, 3757, 3764, 3767, 3769, 3776, 3778, 3780, 3782, 3785,\n",
      "       3796, 3808, 3818, 3821, 3838, 3848, 3853, 3856, 3859, 3876, 3893,\n",
      "       3897, 3898, 3902, 3906, 3918, 3926, 3939, 3941, 3943, 3946, 3954,\n",
      "       3968, 3994, 3996, 4001, 4007, 4013, 4015, 4027, 4037, 4056, 4063,\n",
      "       4065, 4075, 4076, 4078, 4123, 4140, 4194, 4199, 4205, 4211, 4212,\n",
      "       4238, 4239, 4248, 4255, 4266, 4269, 4271, 4289, 4300, 4306, 4313,\n",
      "       4315, 4323, 4330, 4335, 4344, 4356, 4359, 4360, 4382, 4414, 4427,\n",
      "       4433, 4435, 4449, 4451, 4454, 4482, 4483, 4489, 4497, 4498, 4500,\n",
      "       4507, 4508, 4519, 4536, 4548, 4561, 4566, 4567, 4569, 4571, 4575,\n",
      "       4578, 4601, 4605, 4619, 4639, 4695, 4699, 4702, 4716, 4724, 4736,\n",
      "       4761, 4769, 4771, 4783, 4785, 4807, 4814, 4828, 4837, 4838, 4852,\n",
      "       4860, 4873, 4874, 4885, 4886, 4890, 4893, 4899, 4939, 4952, 4954,\n",
      "       4956, 4960, 4966, 4971, 4976, 4978, 4990, 5046, 5054, 5062, 5067,\n",
      "       5068, 5078, 5084, 5138, 5140, 5159, 5162, 5177, 5246, 5278, 5331,\n",
      "       5363, 5371, 5504, 5510, 5512, 5532, 5533, 5536, 5560, 5562, 5600,\n",
      "       5620, 5634, 5642, 5649, 5654, 5655, 5661, 5663, 5688, 5709, 5714,\n",
      "       5726, 5734, 5735, 5737, 5746, 5748, 5749, 5759, 5769, 5802, 5835,\n",
      "       5841, 5857, 5858, 5862, 5867, 5887, 5888, 5891, 5903, 5906, 5912,\n",
      "       5913, 5921, 5922, 5937, 5945, 5955, 5957, 5973, 5982, 5997, 6000,\n",
      "       6023, 6059, 6071, 6081, 6091, 6157, 6161, 6166, 6168, 6172, 6173,\n",
      "       6223, 6347, 6385, 6460, 6480, 6505, 6532, 6555, 6561, 6569, 6574,\n",
      "       6576, 6577, 6597, 6598, 6641, 6643, 6651, 6676, 6692, 6693, 6706,\n",
      "       6740, 6744, 6755, 6769, 6783, 6792, 6795, 6883, 6899, 6909, 6954,\n",
      "       7094, 7121, 7130, 7154, 7268, 7272, 7279, 7333, 7350, 7356, 7392,\n",
      "       7403, 7413, 7419, 7432, 7434, 7444, 7457, 7472, 7476, 7492, 7505,\n",
      "       7514, 7545, 7559, 7565, 7584, 7595, 7619, 7643, 7672, 7673, 7675,\n",
      "       7676, 7757, 7800, 7821, 7822, 7856, 7858, 7928, 7929, 8004, 8020,\n",
      "       8062, 8091, 8094, 8102, 8116, 8143, 8183, 8316, 8325, 8332, 8375,\n",
      "       8410, 8469, 8520, 8553, 8632, 8859, 8952, 8984, 9009, 9010, 9015,\n",
      "       9019, 9022, 9024, 9031, 9036, 9045, 9046, 9110, 9208, 9211, 9214,\n",
      "       9225, 9268, 9315, 9398, 9406, 9422, 9463, 9469, 9473, 9492, 9493,\n",
      "       9512, 9534, 9538, 9576, 9587, 9612, 9614, 9624, 9634, 9642, 9680,\n",
      "       9698, 9700, 9713, 9719, 9733, 9734, 9740, 9782, 9808, 9811, 9830,\n",
      "       9831, 9839, 9840, 9847, 9853, 9855, 9867, 9870, 9874, 9879, 9880,\n",
      "       9883, 9888, 9893, 9905, 9914, 9943, 9944, 9982, 9985], dtype=int64),)\n"
     ]
    }
   ],
   "source": [
    "incorrect_idx = np.where(predictions != test_labels)\n",
    "print(incorrect_idx);"
   ]
  },
  {
   "cell_type": "code",
   "execution_count": 17,
   "metadata": {},
   "outputs": [
    {
     "data": {
      "image/png": "[encoded data removed]",
      "text/plain": [
       "<Figure size 640x480 with 1 Axes>"
      ]
     },
     "metadata": {},
     "output_type": "display_data"
    },
    {
     "data": {
      "image/png": "[encoded data removed]",
      "text/plain": [
       "<Figure size 640x480 with 1 Axes>"
      ]
     },
     "metadata": {},
     "output_type": "display_data"
    },
    {
     "data": {
      "image/png": "[encoded data removed]",
      "text/plain": [
       "<Figure size 640x480 with 1 Axes>"
      ]
     },
     "metadata": {},
     "output_type": "display_data"
    },
    {
     "data": {
      "image/png": "[encoded data removed]",
      "text/plain": [
       "<Figure size 640x480 with 1 Axes>"
      ]
     },
     "metadata": {},
     "output_type": "display_data"
    },
    {
     "data": {
      "image/png": "[encoded data removed]",
      "text/plain": [
       "<Figure size 640x480 with 1 Axes>"
      ]
     },
     "metadata": {},
     "output_type": "display_data"
    }
   ],
   "source": [
    "displaychar(test_data[18])\n",
    "displaychar(test_data[59])\n",
    "displaychar(test_data[3838])\n",
    "displaychar(test_data[4356])\n",
    "displaychar(test_data[9944])"
   ]
  },
  {
   "cell_type": "code",
   "execution_count": 18,
   "metadata": {},
   "outputs": [],
   "source": [
    "misclassified_digits = test_data[ [18, 59, 3838, 4356, 9944],:]"
   ]
  },
  {
   "cell_type": "code",
   "execution_count": 19,
   "metadata": {},
   "outputs": [],
   "source": [
    "row_indices = [18, 59, 3838, 4356, 9944]\n",
    "selected_rows = score[row_indices, :]\n",
    "selected = np.argmax(selected_rows, axis=1)"
   ]
  },
  {
   "cell_type": "code",
   "execution_count": 20,
   "metadata": {},
   "outputs": [
    {
     "data": {
      "text/plain": [
       "array([2, 8, 8, 8, 8], dtype=int64)"
      ]
     },
     "execution_count": 20,
     "metadata": {},
     "output_type": "execute_result"
    }
   ],
   "source": [
    "#posterior probabilities of the 5 digits randomly chosen\n",
    "selected"
   ]
  }
 ],
 "metadata": {
  "kernelspec": {
   "display_name": "Python 3",
   "language": "python",
   "name": "python3"
  },
  "language_info": {
   "codemirror_mode": {
    "name": "ipython",
    "version": 3
   },
   "file_extension": ".py",
   "mimetype": "text/x-python",
   "name": "python",
   "nbconvert_exporter": "python",
   "pygments_lexer": "ipython3",
   "version": "3.9.2"
  },
  "toc": {
   "colors": {
    "hover_highlight": "#DAA520",
    "navigate_num": "#000000",
    "navigate_text": "#333333",
    "running_highlight": "#FF0000",
    "selected_highlight": "#FFD700",
    "sidebar_border": "#EEEEEE",
    "wrapper_background": "#FFFFFF"
   },
   "moveMenuLeft": true,
   "nav_menu": {
    "height": "12px",
    "width": "252px"
   },
   "navigate_menu": true,
   "number_sections": false,
   "sideBar": true,
   "threshold": 4,
   "toc_cell": false,
   "toc_section_display": "block",
   "toc_window_display": false,
   "widenNotebook": false
  }
 },
 "nbformat": 4,
 "nbformat_minor": 4
}
